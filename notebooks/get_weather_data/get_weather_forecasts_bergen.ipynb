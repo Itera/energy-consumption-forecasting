{
 "cells": [
  {
   "cell_type": "code",
   "execution_count": 14,
   "metadata": {},
   "outputs": [],
   "source": [
    "import netCDF4 as nc\n",
    "import pandas as pd\n",
    "import numpy as np"
   ]
  },
  {
   "cell_type": "markdown",
   "metadata": {},
   "source": [
    "### Purpose"
   ]
  },
  {
   "cell_type": "markdown",
   "metadata": {},
   "source": [
    "Grabbing hourly weather forecast data for 2019 for Florida, Bergen from MET THREDDS: https://thredds.met.no/thredds/catalog.html"
   ]
  },
  {
   "cell_type": "markdown",
   "metadata": {},
   "source": [
    "### Define netCDF file names by specifying date and time"
   ]
  },
  {
   "cell_type": "code",
   "execution_count": 4,
   "metadata": {},
   "outputs": [],
   "source": [
    "thredds_urls = list()\n",
    "\n",
    "for nc_dt in pd.date_range(start='2019-01-01 00:00', end='2019-12-31 23:00', freq='60H'):\n",
    "    current_url = 'https://thredds.met.no/thredds/dodsC/meps25epsarchive/2019/' + str(nc_dt.month).zfill(2) + '/' + \\\n",
    "        str(nc_dt.day).zfill(2) + '/meps_mbr0_pp_2_5km_2019' + str(nc_dt.month).zfill(2) + str(nc_dt.day).zfill(2) + \\\n",
    "        'T' + str(nc_dt.hour).zfill(2) + 'Z.nc'\n",
    "    thredds_urls.append(current_url)"
   ]
  },
  {
   "cell_type": "code",
   "execution_count": 5,
   "metadata": {},
   "outputs": [
    {
     "data": {
      "text/plain": [
       "['https://thredds.met.no/thredds/dodsC/meps25epsarchive/2019/01/01/meps_mbr0_pp_2_5km_20190101T00Z.nc',\n",
       " 'https://thredds.met.no/thredds/dodsC/meps25epsarchive/2019/01/03/meps_mbr0_pp_2_5km_20190103T12Z.nc',\n",
       " 'https://thredds.met.no/thredds/dodsC/meps25epsarchive/2019/01/06/meps_mbr0_pp_2_5km_20190106T00Z.nc']"
      ]
     },
     "execution_count": 5,
     "metadata": {},
     "output_type": "execute_result"
    }
   ],
   "source": [
    "thredds_urls[:3]"
   ]
  },
  {
   "cell_type": "markdown",
   "metadata": {},
   "source": [
    "### Find closest weather model point"
   ]
  },
  {
   "cell_type": "code",
   "execution_count": 20,
   "metadata": {},
   "outputs": [],
   "source": [
    "# Modified code from https://stackoverflow.com/questions/41336756/find-the-closest-latitude-and-longitude\n",
    "\n",
    "from math import cos, asin, sqrt\n",
    "\n",
    "def distance(lat1, lon1, lat2, lon2):\n",
    "    p = 0.017453292519943295\n",
    "    a = 0.5 - cos((lat2-lat1)*p)/2 + cos(lat1*p)*cos(lat2*p) * (1-cos((lon2-lon1)*p)) / 2\n",
    "    return 12742 * asin(sqrt(a))\n",
    "\n",
    "def closest(data, v):\n",
    "    closest_point = min(data, key=lambda p: distance(v['lat'],v['lon'],p['lat'],p['lon']))\n",
    "    closest_idx = np.argmin([distance(v['lat'],v['lon'],p['lat'],p['lon']) for p in data])\n",
    "    return closest_point, closest_idx"
   ]
  },
  {
   "cell_type": "code",
   "execution_count": 21,
   "metadata": {},
   "outputs": [],
   "source": [
    "weather_station = {'lat': 60.383, 'lon': 5.3327} # Bergen, FLorida"
   ]
  },
  {
   "cell_type": "code",
   "execution_count": 22,
   "metadata": {},
   "outputs": [],
   "source": [
    "nc_data = nc.Dataset(thredds_urls[0])\n",
    "lats = nc_data.variables['latitude'][:]\n",
    "lons = nc_data.variables['longitude'][:]"
   ]
  },
  {
   "cell_type": "code",
   "execution_count": 23,
   "metadata": {},
   "outputs": [],
   "source": [
    "lat_lon_model_points = list()\n",
    "\n",
    "for lat, lon in zip(lats.flatten(), lons.flatten()):\n",
    "    lat_lon_model_points.append({'lat': lat, 'lon': lon})"
   ]
  },
  {
   "cell_type": "code",
   "execution_count": 24,
   "metadata": {},
   "outputs": [
    {
     "data": {
      "text/plain": [
       "[{'lat': 52.114260619314265, 'lon': 0.506769728067554},\n",
       " {'lat': 52.11919772795616, 'lon': 0.5418808356841226},\n",
       " {'lat': 52.12412313250235, 'lon': 0.5770007145517959},\n",
       " {'lat': 52.12903682801575, 'lon': 0.6121293469988841},\n",
       " {'lat': 52.13393880956891, 'lon': 0.6472667153239783}]"
      ]
     },
     "execution_count": 24,
     "metadata": {},
     "output_type": "execute_result"
    }
   ],
   "source": [
    "lat_lon_model_points[0:5]"
   ]
  },
  {
   "cell_type": "code",
   "execution_count": 40,
   "metadata": {},
   "outputs": [],
   "source": [
    "closest_point, closest_idx = closest(lat_lon_model_points, weather_station)"
   ]
  },
  {
   "cell_type": "code",
   "execution_count": 42,
   "metadata": {},
   "outputs": [
    {
     "name": "stdout",
     "output_type": "stream",
     "text": [
      "Closest point: {'lat': 60.37710907397123, 'lon': 5.330741772326141} \n",
      "Closest index: 296516\n"
     ]
    }
   ],
   "source": [
    "print('Closest point:', closest_point, \n",
    "      '\\nClosest index:', closest_idx)"
   ]
  },
  {
   "cell_type": "code",
   "execution_count": 43,
   "metadata": {},
   "outputs": [
    {
     "name": "stdout",
     "output_type": "stream",
     "text": [
      "Shape of lat and lon arrays: (929, 869) (929, 869)\n"
     ]
    }
   ],
   "source": [
    "print('Shape of lat and lon arrays:', lats.shape, lons.shape)"
   ]
  },
  {
   "cell_type": "code",
   "execution_count": 44,
   "metadata": {},
   "outputs": [],
   "source": [
    "closest_row_idx = closest_idx // 869\n",
    "closest_col_idx = closest_idx - (closest_row_idx * 869)"
   ]
  },
  {
   "cell_type": "code",
   "execution_count": 45,
   "metadata": {},
   "outputs": [
    {
     "name": "stdout",
     "output_type": "stream",
     "text": [
      "60.37710907397123 5.330741772326141\n"
     ]
    }
   ],
   "source": [
    "print(lats[closest_row_idx, closest_col_idx], lons[closest_row_idx, closest_col_idx])"
   ]
  },
  {
   "cell_type": "code",
   "execution_count": 54,
   "metadata": {},
   "outputs": [
    {
     "name": "stdout",
     "output_type": "stream",
     "text": [
      "[Errno -90] NetCDF: file not found: b'https://thredds.met.no/thredds/dodsC/meps25epsarchive/2019/03/02/meps_mbr0_pp_2_5km_20190302T00Z.nc'\n",
      "[Errno -90] NetCDF: file not found: b'https://thredds.met.no/thredds/dodsC/meps25epsarchive/2019/03/04/meps_mbr0_pp_2_5km_20190304T12Z.nc'\n",
      "[Errno -90] NetCDF: file not found: b'https://thredds.met.no/thredds/dodsC/meps25epsarchive/2019/08/26/meps_mbr0_pp_2_5km_20190826T12Z.nc'\n"
     ]
    }
   ],
   "source": [
    "# Check that model point is consistent throughout period (2019)\n",
    "for url in thredds_urls:\n",
    "    try:\n",
    "        nc_data = nc.Dataset(url)\n",
    "        lat = nc_data.variables['latitude'][closest_row_idx, closest_col_idx]\n",
    "        lon = nc_data.variables['longitude'][closest_row_idx, closest_col_idx]\n",
    "\n",
    "        if (lat != 60.37710907397123) | (lon != 5.330741772326141):\n",
    "            print('Inconsistent weather model point found:', lat, lon)\n",
    "            \n",
    "    except OSError as e:\n",
    "        print(e)"
   ]
  },
  {
   "cell_type": "markdown",
   "metadata": {},
   "source": [
    "### Get first 60 hours of temperature forecasts for every file"
   ]
  },
  {
   "cell_type": "code",
   "execution_count": 133,
   "metadata": {},
   "outputs": [
    {
     "name": "stdout",
     "output_type": "stream",
     "text": [
      "[Errno -90] NetCDF: file not found: b'https://thredds.met.no/thredds/dodsC/meps25epsarchive/2019/03/02/meps_mbr0_pp_2_5km_20190302T00Z.nc'\n",
      "[Errno -90] NetCDF: file not found: b'https://thredds.met.no/thredds/dodsC/meps25epsarchive/2019/03/04/meps_mbr0_pp_2_5km_20190304T12Z.nc'\n",
      "[Errno -90] NetCDF: file not found: b'https://thredds.met.no/thredds/dodsC/meps25epsarchive/2019/08/26/meps_mbr0_pp_2_5km_20190826T12Z.nc'\n"
     ]
    }
   ],
   "source": [
    "df_list = list()\n",
    "\n",
    "for url in thredds_urls:\n",
    "    try:\n",
    "        nc_data = nc.Dataset(url)\n",
    "        \n",
    "        forecast_ref_time = pd.to_datetime([nc_data['forecast_reference_time'][:].tolist()] * 60, unit='s')\n",
    "        time = pd.to_datetime(nc_data['time'][0:60].tolist(), unit='s')\n",
    "        temp_kelvin = nc_data.variables['air_temperature_2m'][0:60, 0, closest_row_idx, closest_col_idx].tolist()\n",
    "        temp_celsius = pd.Series([temp - 273.15 for temp in temp_kelvin])\n",
    "        \n",
    "        df_list.append(pd.DataFrame({'forecast_ref_time_utc': forecast_ref_time,\n",
    "                                     'datetime_utc': time,\n",
    "                                     'air_temperature_2m': temp_celsius}))\n",
    "    except OSError as e:\n",
    "        print(e)"
   ]
  },
  {
   "cell_type": "code",
   "execution_count": 134,
   "metadata": {},
   "outputs": [],
   "source": [
    "df_weather_forecast = pd.concat(df_list, axis=0, ignore_index=True)"
   ]
  },
  {
   "cell_type": "code",
   "execution_count": 135,
   "metadata": {},
   "outputs": [
    {
     "data": {
      "text/html": [
       "<div>\n",
       "<style scoped>\n",
       "    .dataframe tbody tr th:only-of-type {\n",
       "        vertical-align: middle;\n",
       "    }\n",
       "\n",
       "    .dataframe tbody tr th {\n",
       "        vertical-align: top;\n",
       "    }\n",
       "\n",
       "    .dataframe thead th {\n",
       "        text-align: right;\n",
       "    }\n",
       "</style>\n",
       "<table border=\"1\" class=\"dataframe\">\n",
       "  <thead>\n",
       "    <tr style=\"text-align: right;\">\n",
       "      <th></th>\n",
       "      <th>forecast_ref_time_utc</th>\n",
       "      <th>datetime_utc</th>\n",
       "      <th>air_temperature_2m</th>\n",
       "    </tr>\n",
       "  </thead>\n",
       "  <tbody>\n",
       "    <tr>\n",
       "      <th>0</th>\n",
       "      <td>2019-01-01</td>\n",
       "      <td>2019-01-01 00:00:00</td>\n",
       "      <td>5.605432</td>\n",
       "    </tr>\n",
       "    <tr>\n",
       "      <th>1</th>\n",
       "      <td>2019-01-01</td>\n",
       "      <td>2019-01-01 01:00:00</td>\n",
       "      <td>5.326746</td>\n",
       "    </tr>\n",
       "    <tr>\n",
       "      <th>2</th>\n",
       "      <td>2019-01-01</td>\n",
       "      <td>2019-01-01 02:00:00</td>\n",
       "      <td>5.567499</td>\n",
       "    </tr>\n",
       "    <tr>\n",
       "      <th>3</th>\n",
       "      <td>2019-01-01</td>\n",
       "      <td>2019-01-01 03:00:00</td>\n",
       "      <td>5.486780</td>\n",
       "    </tr>\n",
       "    <tr>\n",
       "      <th>4</th>\n",
       "      <td>2019-01-01</td>\n",
       "      <td>2019-01-01 04:00:00</td>\n",
       "      <td>5.475427</td>\n",
       "    </tr>\n",
       "  </tbody>\n",
       "</table>\n",
       "</div>"
      ],
      "text/plain": [
       "  forecast_ref_time_utc        datetime_utc  air_temperature_2m\n",
       "0            2019-01-01 2019-01-01 00:00:00            5.605432\n",
       "1            2019-01-01 2019-01-01 01:00:00            5.326746\n",
       "2            2019-01-01 2019-01-01 02:00:00            5.567499\n",
       "3            2019-01-01 2019-01-01 03:00:00            5.486780\n",
       "4            2019-01-01 2019-01-01 04:00:00            5.475427"
      ]
     },
     "execution_count": 135,
     "metadata": {},
     "output_type": "execute_result"
    }
   ],
   "source": [
    "df_weather_forecast.head()"
   ]
  },
  {
   "cell_type": "code",
   "execution_count": 136,
   "metadata": {},
   "outputs": [],
   "source": [
    "df_weather_forecast = df_weather_forecast.set_index('datetime_utc').reindex(pd.date_range(start='2019-01-01 00:00', \n",
    "                                                                                 end='2019-12-31 23:00', freq='H'))\n",
    "df_weather_forecast.reset_index(inplace=True, drop=False)"
   ]
  },
  {
   "cell_type": "code",
   "execution_count": 137,
   "metadata": {},
   "outputs": [
    {
     "data": {
      "text/html": [
       "<div>\n",
       "<style scoped>\n",
       "    .dataframe tbody tr th:only-of-type {\n",
       "        vertical-align: middle;\n",
       "    }\n",
       "\n",
       "    .dataframe tbody tr th {\n",
       "        vertical-align: top;\n",
       "    }\n",
       "\n",
       "    .dataframe thead th {\n",
       "        text-align: right;\n",
       "    }\n",
       "</style>\n",
       "<table border=\"1\" class=\"dataframe\">\n",
       "  <thead>\n",
       "    <tr style=\"text-align: right;\">\n",
       "      <th></th>\n",
       "      <th>index</th>\n",
       "      <th>forecast_ref_time_utc</th>\n",
       "      <th>air_temperature_2m</th>\n",
       "    </tr>\n",
       "  </thead>\n",
       "  <tbody>\n",
       "    <tr>\n",
       "      <th>1440</th>\n",
       "      <td>2019-03-02 00:00:00</td>\n",
       "      <td>NaT</td>\n",
       "      <td>NaN</td>\n",
       "    </tr>\n",
       "    <tr>\n",
       "      <th>1441</th>\n",
       "      <td>2019-03-02 01:00:00</td>\n",
       "      <td>NaT</td>\n",
       "      <td>NaN</td>\n",
       "    </tr>\n",
       "    <tr>\n",
       "      <th>1442</th>\n",
       "      <td>2019-03-02 02:00:00</td>\n",
       "      <td>NaT</td>\n",
       "      <td>NaN</td>\n",
       "    </tr>\n",
       "    <tr>\n",
       "      <th>1443</th>\n",
       "      <td>2019-03-02 03:00:00</td>\n",
       "      <td>NaT</td>\n",
       "      <td>NaN</td>\n",
       "    </tr>\n",
       "    <tr>\n",
       "      <th>1444</th>\n",
       "      <td>2019-03-02 04:00:00</td>\n",
       "      <td>NaT</td>\n",
       "      <td>NaN</td>\n",
       "    </tr>\n",
       "  </tbody>\n",
       "</table>\n",
       "</div>"
      ],
      "text/plain": [
       "                   index forecast_ref_time_utc  air_temperature_2m\n",
       "1440 2019-03-02 00:00:00                   NaT                 NaN\n",
       "1441 2019-03-02 01:00:00                   NaT                 NaN\n",
       "1442 2019-03-02 02:00:00                   NaT                 NaN\n",
       "1443 2019-03-02 03:00:00                   NaT                 NaN\n",
       "1444 2019-03-02 04:00:00                   NaT                 NaN"
      ]
     },
     "execution_count": 137,
     "metadata": {},
     "output_type": "execute_result"
    }
   ],
   "source": [
    "df_weather_forecast[df_weather_forecast.air_temperature_2m.isna()].head()"
   ]
  },
  {
   "cell_type": "code",
   "execution_count": 138,
   "metadata": {},
   "outputs": [],
   "source": [
    "for idx, _ in df_weather_forecast[df_weather_forecast.air_temperature_2m.isna()].iterrows():\n",
    "    df_weather_forecast.at[idx, 'air_temperature_2m'] = df_weather_forecast.at[idx - 24, 'air_temperature_2m']"
   ]
  },
  {
   "cell_type": "code",
   "execution_count": 139,
   "metadata": {},
   "outputs": [
    {
     "data": {
      "text/html": [
       "<div>\n",
       "<style scoped>\n",
       "    .dataframe tbody tr th:only-of-type {\n",
       "        vertical-align: middle;\n",
       "    }\n",
       "\n",
       "    .dataframe tbody tr th {\n",
       "        vertical-align: top;\n",
       "    }\n",
       "\n",
       "    .dataframe thead th {\n",
       "        text-align: right;\n",
       "    }\n",
       "</style>\n",
       "<table border=\"1\" class=\"dataframe\">\n",
       "  <thead>\n",
       "    <tr style=\"text-align: right;\">\n",
       "      <th></th>\n",
       "      <th>index</th>\n",
       "      <th>forecast_ref_time_utc</th>\n",
       "      <th>air_temperature_2m</th>\n",
       "    </tr>\n",
       "  </thead>\n",
       "  <tbody>\n",
       "    <tr>\n",
       "      <th>1440</th>\n",
       "      <td>2019-03-02 00:00:00</td>\n",
       "      <td>NaT</td>\n",
       "      <td>0.560693</td>\n",
       "    </tr>\n",
       "    <tr>\n",
       "      <th>1441</th>\n",
       "      <td>2019-03-02 01:00:00</td>\n",
       "      <td>NaT</td>\n",
       "      <td>0.493280</td>\n",
       "    </tr>\n",
       "    <tr>\n",
       "      <th>1442</th>\n",
       "      <td>2019-03-02 02:00:00</td>\n",
       "      <td>NaT</td>\n",
       "      <td>0.251398</td>\n",
       "    </tr>\n",
       "    <tr>\n",
       "      <th>1443</th>\n",
       "      <td>2019-03-02 03:00:00</td>\n",
       "      <td>NaT</td>\n",
       "      <td>-0.004980</td>\n",
       "    </tr>\n",
       "    <tr>\n",
       "      <th>1444</th>\n",
       "      <td>2019-03-02 04:00:00</td>\n",
       "      <td>NaT</td>\n",
       "      <td>-0.095557</td>\n",
       "    </tr>\n",
       "  </tbody>\n",
       "</table>\n",
       "</div>"
      ],
      "text/plain": [
       "                   index forecast_ref_time_utc  air_temperature_2m\n",
       "1440 2019-03-02 00:00:00                   NaT            0.560693\n",
       "1441 2019-03-02 01:00:00                   NaT            0.493280\n",
       "1442 2019-03-02 02:00:00                   NaT            0.251398\n",
       "1443 2019-03-02 03:00:00                   NaT           -0.004980\n",
       "1444 2019-03-02 04:00:00                   NaT           -0.095557"
      ]
     },
     "execution_count": 139,
     "metadata": {},
     "output_type": "execute_result"
    }
   ],
   "source": [
    "df_weather_forecast.iloc[1440:1445]"
   ]
  },
  {
   "cell_type": "code",
   "execution_count": 140,
   "metadata": {},
   "outputs": [],
   "source": [
    "df_weather_forecast.rename({'index': 'datetime_utc'}, axis=1, inplace=True)"
   ]
  },
  {
   "cell_type": "code",
   "execution_count": 141,
   "metadata": {},
   "outputs": [
    {
     "data": {
      "text/html": [
       "<div>\n",
       "<style scoped>\n",
       "    .dataframe tbody tr th:only-of-type {\n",
       "        vertical-align: middle;\n",
       "    }\n",
       "\n",
       "    .dataframe tbody tr th {\n",
       "        vertical-align: top;\n",
       "    }\n",
       "\n",
       "    .dataframe thead th {\n",
       "        text-align: right;\n",
       "    }\n",
       "</style>\n",
       "<table border=\"1\" class=\"dataframe\">\n",
       "  <thead>\n",
       "    <tr style=\"text-align: right;\">\n",
       "      <th></th>\n",
       "      <th>datetime_utc</th>\n",
       "      <th>forecast_ref_time_utc</th>\n",
       "      <th>air_temperature_2m</th>\n",
       "    </tr>\n",
       "  </thead>\n",
       "  <tbody>\n",
       "    <tr>\n",
       "      <th>0</th>\n",
       "      <td>2019-01-01 00:00:00</td>\n",
       "      <td>2019-01-01</td>\n",
       "      <td>5.605432</td>\n",
       "    </tr>\n",
       "    <tr>\n",
       "      <th>1</th>\n",
       "      <td>2019-01-01 01:00:00</td>\n",
       "      <td>2019-01-01</td>\n",
       "      <td>5.326746</td>\n",
       "    </tr>\n",
       "    <tr>\n",
       "      <th>2</th>\n",
       "      <td>2019-01-01 02:00:00</td>\n",
       "      <td>2019-01-01</td>\n",
       "      <td>5.567499</td>\n",
       "    </tr>\n",
       "    <tr>\n",
       "      <th>3</th>\n",
       "      <td>2019-01-01 03:00:00</td>\n",
       "      <td>2019-01-01</td>\n",
       "      <td>5.486780</td>\n",
       "    </tr>\n",
       "    <tr>\n",
       "      <th>4</th>\n",
       "      <td>2019-01-01 04:00:00</td>\n",
       "      <td>2019-01-01</td>\n",
       "      <td>5.475427</td>\n",
       "    </tr>\n",
       "  </tbody>\n",
       "</table>\n",
       "</div>"
      ],
      "text/plain": [
       "         datetime_utc forecast_ref_time_utc  air_temperature_2m\n",
       "0 2019-01-01 00:00:00            2019-01-01            5.605432\n",
       "1 2019-01-01 01:00:00            2019-01-01            5.326746\n",
       "2 2019-01-01 02:00:00            2019-01-01            5.567499\n",
       "3 2019-01-01 03:00:00            2019-01-01            5.486780\n",
       "4 2019-01-01 04:00:00            2019-01-01            5.475427"
      ]
     },
     "execution_count": 141,
     "metadata": {},
     "output_type": "execute_result"
    }
   ],
   "source": [
    "df_weather_forecast.head()"
   ]
  },
  {
   "cell_type": "code",
   "execution_count": 109,
   "metadata": {},
   "outputs": [
    {
     "data": {
      "text/plain": [
       "['.ipynb_checkpoints',\n",
       " 'weather_florida_2013.csv',\n",
       " 'weather_florida_2014.csv',\n",
       " 'weather_florida_2015.csv',\n",
       " 'weather_florida_2016.csv',\n",
       " 'weather_florida_2017.csv',\n",
       " 'weather_florida_2018.csv',\n",
       " 'weather_florida_2019.csv',\n",
       " 'weather_florida_2020.csv']"
      ]
     },
     "execution_count": 109,
     "metadata": {},
     "output_type": "execute_result"
    }
   ],
   "source": [
    "os.listdir('../../data/weather/florida/csv')"
   ]
  },
  {
   "cell_type": "code",
   "execution_count": 142,
   "metadata": {},
   "outputs": [],
   "source": [
    "df_weather_forecast.to_csv('../../data/weather/florida/csv/weather_forecast_florida_2019.csv', index=False)"
   ]
  },
  {
   "cell_type": "code",
   "execution_count": null,
   "metadata": {},
   "outputs": [],
   "source": []
  }
 ],
 "metadata": {
  "kernelspec": {
   "display_name": "Python 3",
   "language": "python",
   "name": "python3"
  },
  "language_info": {
   "codemirror_mode": {
    "name": "ipython",
    "version": 3
   },
   "file_extension": ".py",
   "mimetype": "text/x-python",
   "name": "python",
   "nbconvert_exporter": "python",
   "pygments_lexer": "ipython3",
   "version": "3.6.9"
  }
 },
 "nbformat": 4,
 "nbformat_minor": 4
}
