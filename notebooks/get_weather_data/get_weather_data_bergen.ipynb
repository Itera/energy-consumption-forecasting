{
 "cells": [
  {
   "cell_type": "code",
   "execution_count": 1,
   "metadata": {},
   "outputs": [],
   "source": [
    "import requests\n",
    "import sys\n",
    "import pandas as pd\n",
    "import dateutil.parser as dp\n",
    "import json\n",
    "from pandas.io.json import json_normalize"
   ]
  },
  {
   "cell_type": "code",
   "execution_count": 2,
   "metadata": {},
   "outputs": [],
   "source": [
    "# MET Frost client ID\n",
    "client_id = ''"
   ]
  },
  {
   "cell_type": "markdown",
   "metadata": {},
   "source": [
    "#### Get sources (stations) in Bergen"
   ]
  },
  {
   "cell_type": "code",
   "execution_count": 3,
   "metadata": {},
   "outputs": [
    {
     "name": "stdout",
     "output_type": "stream",
     "text": [
      "ID: SN76944\n",
      "Name: DEEPSEA BERGEN\n",
      "Municipality: KONTINENTALSOKKELEN\n",
      "County: KONTINENTALSOKKELEN\n",
      "Country: Norge\n",
      "external ID: LFSR\n",
      "\n",
      "\n",
      "ID: SN50540\n",
      "Name: BERGEN - FLORIDA\n",
      "longitude: 5.3327\n",
      "latitude: 60.383\n",
      "Municipality: BERGEN\n",
      "County: VESTLAND\n",
      "Country: Norge\n",
      "external ID: 01317\n",
      "external ID: 10.249.0.159\n",
      "\n",
      "\n",
      "ID: SN50480\n",
      "Name: BERGEN - SANDSLI\n",
      "longitude: 5.2777\n",
      "latitude: 60.2913\n",
      "Municipality: BERGEN\n",
      "County: VESTLAND\n",
      "Country: Norge\n",
      "external ID: 56.1\n",
      "\n",
      "\n",
      "ID: SN50539\n",
      "Name: BERGEN - FLORIDA UIB\n",
      "longitude: 5.332\n",
      "latitude: 60.3837\n",
      "Municipality: BERGEN\n",
      "County: VESTLAND\n",
      "Country: Norge\n",
      "external ID: 10.249.1.50\n",
      "\n",
      "\n",
      "ID: SN245200\n",
      "Name: KILSBERGEN-SUTTARBODA\n",
      "longitude: 14.8986111111111\n",
      "latitude: 59.2994444444444\n",
      "Municipality: ÖREBRO LÄN\n",
      "Country: Sverige\n",
      "external ID: 02452\n",
      "external ID: 94190\n",
      "\n",
      "\n",
      "\n",
      "\n"
     ]
    }
   ],
   "source": [
    "# issue an HTTP GET request\n",
    "r = requests.get(\n",
    "    'https://frost.met.no/sources/v0.jsonld',\n",
    "    {'ids': None},\n",
    "    auth=(client_id, '')\n",
    ")\n",
    "\n",
    "def codec_utf8(s):\n",
    "    return s.encode('utf-8').decode('utf-8') # should be used for Python 3\n",
    "\n",
    "# extract some data from the response\n",
    "if r.status_code == 200:\n",
    "    for item in r.json()['data']:\n",
    "        try:\n",
    "            if 'BERGEN' in item['name']:\n",
    "                sys.stdout.write('ID: {}\\n'.format(item['id']))\n",
    "                sys.stdout.write('Name: {}\\n'.format(codec_utf8(item['name'])))\n",
    "                if 'geometry' in item:\n",
    "                    sys.stdout.write('longitude: {}\\n'.format(item['geometry']['coordinates'][0]))\n",
    "                    sys.stdout.write('latitude: {}\\n'.format(item['geometry']['coordinates'][1]))\n",
    "                if 'municipality' in item:\n",
    "                    sys.stdout.write('Municipality: {}\\n'.format(codec_utf8(item['municipality'])))\n",
    "                if 'county' in item:\n",
    "                    sys.stdout.write('County: {}\\n'.format(codec_utf8(item['county'])))\n",
    "                sys.stdout.write('Country: {}\\n'.format(codec_utf8(item['country'])))\n",
    "                if 'externalIds' in item:\n",
    "                    for ext_id in item['externalIds']:\n",
    "                        sys.stdout.write('external ID: {}\\n'.format(ext_id))\n",
    "                else:\n",
    "                    sys.stdout.write('no external IDs found\\n')\n",
    "                    \n",
    "                print('\\n')\n",
    "        except:\n",
    "            print('\\n')\n",
    "else:\n",
    "    sys.stdout.write('error:\\n')\n",
    "    sys.stdout.write('\\tstatus code: {}\\n'.format(r.status_code))\n",
    "    if 'error' in r.json():\n",
    "        assert(r.json()['error']['code'] == r.status_code)\n",
    "        sys.stdout.write('\\tmessage: {}\\n'.format(r.json()['error']['message']))\n",
    "        sys.stdout.write('\\treason: {}\\n'.format(r.json()['error']['reason']))\n",
    "    else:\n",
    "        sys.stdout.write('\\tother error\\n')"
   ]
  },
  {
   "cell_type": "markdown",
   "metadata": {},
   "source": [
    "#### Get temperature data"
   ]
  },
  {
   "cell_type": "code",
   "execution_count": 98,
   "metadata": {},
   "outputs": [
    {
     "name": "stdout",
     "output_type": "stream",
     "text": [
      "Data retrieved from frost.met.no!\n",
      "Data retrieved from frost.met.no!\n",
      "Data retrieved from frost.met.no!\n",
      "Data retrieved from frost.met.no!\n",
      "Data retrieved from frost.met.no!\n",
      "Data retrieved from frost.met.no!\n",
      "Data retrieved from frost.met.no!\n"
     ]
    }
   ],
   "source": [
    "endpoint = 'https://frost.met.no/observations/v0.jsonld'\n",
    "\n",
    "for year in range(2013, 2020):\n",
    "\n",
    "    parameters = {\n",
    "        'sources': 'SN50540',\n",
    "        'elements': 'air_temperature',\n",
    "        'referencetime': str(year) + '-01-01/' + str(year) + '-12-31',\n",
    "    }\n",
    "\n",
    "    r = requests.get(\n",
    "        'https://frost.met.no/observations/v0.jsonld',\n",
    "        parameters,\n",
    "        auth=(client_id, '')\n",
    "    )\n",
    "    \n",
    "    # Check if the request worked, print out any errors\n",
    "    json_data = r.json()\n",
    "    if r.status_code == 200:\n",
    "        data = json_data['data']\n",
    "        print('Data retrieved from frost.met.no!')\n",
    "    else:\n",
    "        print('Error! Returned status code %s' % r.status_code)\n",
    "        print('Message: %s' % json_data['error']['message'])\n",
    "        print('Reason: %s' % json_data['error']['reason'])\n",
    "        \n",
    "    with open('../../data/weather/florida/json/weather_florida_' + str(year) + '.json', 'w') as f:\n",
    "        json.dump(json_data, f)"
   ]
  },
  {
   "cell_type": "code",
   "execution_count": 4,
   "metadata": {},
   "outputs": [
    {
     "name": "stdout",
     "output_type": "stream",
     "text": [
      "Data retrieved from frost.met.no!\n"
     ]
    }
   ],
   "source": [
    "parameters = {\n",
    "    'sources': 'SN50540',\n",
    "    'elements': 'air_temperature',\n",
    "    'referencetime': '2020-01-01/2020-09-08',\n",
    "}\n",
    "\n",
    "r = requests.get(\n",
    "    'https://frost.met.no/observations/v0.jsonld',\n",
    "    parameters,\n",
    "    auth=(client_id, '')\n",
    ")\n",
    "\n",
    "# Check if the request worked, print out any errors\n",
    "json_data = r.json()\n",
    "if r.status_code == 200:\n",
    "    data = json_data['data']\n",
    "    print('Data retrieved from frost.met.no!')\n",
    "else:\n",
    "    print('Error! Returned status code %s' % r.status_code)\n",
    "    print('Message: %s' % json_data['error']['message'])\n",
    "    print('Reason: %s' % json_data['error']['reason'])\n",
    "\n",
    "with open('../../data/weather/florida/json/weather_florida_2020.json', 'w') as f:\n",
    "    json.dump(json_data, f)"
   ]
  },
  {
   "cell_type": "markdown",
   "metadata": {},
   "source": [
    "#### Convert to csv"
   ]
  },
  {
   "cell_type": "code",
   "execution_count": 5,
   "metadata": {},
   "outputs": [
    {
     "name": "stdout",
     "output_type": "stream",
     "text": [
      "Unique level values for weather_florida_2013.json: 2\n",
      "Unique level values for weather_florida_2014.json: 2\n",
      "Unique level values for weather_florida_2015.json: 2\n",
      "Unique level values for weather_florida_2016.json: 2\n",
      "Unique level values for weather_florida_2017.json: 2\n",
      "Unique level values for weather_florida_2018.json: 2\n",
      "Unique level values for weather_florida_2019.json: 2\n",
      "Unique level values for weather_florida_2020.json: 2\n"
     ]
    }
   ],
   "source": [
    "json_data_path = '../../data/weather/florida/json/'\n",
    "\n",
    "for path in os.listdir(json_data_path):\n",
    "    \n",
    "    if path[-5:] == '.json':\n",
    "\n",
    "        df_current = json_normalize(pd.read_json(json_data_path + path)['data'])\n",
    "        df_current['observations'] = df_current.observations.map(lambda x: x[0])\n",
    "\n",
    "        df_current[['elementId', 'exposureCategory', 'level.levelType', 'level.unit',\n",
    "           'level.value', 'performanceCategory', 'qualityCode', 'timeOffset',\n",
    "           'timeResolution', 'timeSeriesId', 'unit', 'value']] = json_normalize(df_current['observations'])\n",
    "\n",
    "        df_current.drop('observations', axis=1, inplace=True)\n",
    "\n",
    "        print('Unique level values for ' + path + ':', df_current['level.value'].unique().item())\n",
    "\n",
    "        df_current.to_csv('../../data/weather/florida/csv/' + path[:-5] + '.csv', index=False)"
   ]
  },
  {
   "cell_type": "code",
   "execution_count": null,
   "metadata": {},
   "outputs": [],
   "source": []
  }
 ],
 "metadata": {
  "kernelspec": {
   "display_name": "Python 3",
   "language": "python",
   "name": "python3"
  },
  "language_info": {
   "codemirror_mode": {
    "name": "ipython",
    "version": 3
   },
   "file_extension": ".py",
   "mimetype": "text/x-python",
   "name": "python",
   "nbconvert_exporter": "python",
   "pygments_lexer": "ipython3",
   "version": "3.6.9"
  }
 },
 "nbformat": 4,
 "nbformat_minor": 4
}
